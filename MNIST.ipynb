{
 "cells": [
  {
   "cell_type": "markdown",
   "id": "ab5dcc9f",
   "metadata": {},
   "source": [
    "# Лабораторная работа по распознаванию цифр с использованием набора данных MNIST"
   ]
  },
  {
   "cell_type": "markdown",
   "id": "0edfb821",
   "metadata": {},
   "source": [
    "Введение: В данной лабораторной работе студентам предлагается рассмотреть задачу распознавания рукописных цифр на основе набора данных MNIST. Мы будем использовать инструменты MATLAB для обучения и оценки модели машинного обучения.\n",
    "Теоретическое обоснование: Задача распознавания рукописных цифр является классической задачей классификации изображений в области машинного обучения. В рамках данной лабораторной работы мы будем использовать простую полносвязную нейронную сеть (Multilayer Perceptron, MLP) для решения этой задачи.\n"
   ]
  },
  {
   "cell_type": "markdown",
   "id": "5db3e401",
   "metadata": {},
   "source": [
    "![title](mlp.png)"
   ]
  },
  {
   "cell_type": "markdown",
   "id": "49fe6c0e",
   "metadata": {},
   "source": [
    "Описание данных: Набор данных MNIST состоит из 70 000 изображений размером 28x28 пикселей, каждое из которых представляет собой рукописную цифру от 0 до 9. Изображения представлены в градациях серого, где 0 - белый цвет, а 255 - черный. Данные разделены на две части: обучающую выборку из 60 000 изображений и тестовую выборку из 10 000 изображений.\n",
    "Описание метрик: В качестве метрик для оценки модели мы будем использовать точность (accuracy) и матрицу ошибок (confusion matrix). Точность представляет собой долю правильно классифицированных изображений, а матрица ошибок показывает, какие классы были правильно и неправильно распознаны.\n",
    "Описание модели: Мы будем использовать полносвязную нейронную сеть с одним скрытым слоем. В качестве функции активации на скрытом слое используется ReLU, а на выходном слое - softmax. В качестве алгоритма оптимизации будет использоваться стохастический градиентный спуск (SGD).\n"
   ]
  },
  {
   "cell_type": "markdown",
   "id": "9eba762b",
   "metadata": {},
   "source": [
    "## Импорт необходимых библиотек"
   ]
  },
  {
   "cell_type": "code",
   "execution_count": 3,
   "id": "2d0b6bee",
   "metadata": {},
   "outputs": [],
   "source": [
    "import torch\n",
    "import torchvision\n",
    "import torch.nn as nn\n",
    "import torch.optim as optim\n",
    "import torch.nn.functional as F\n",
    "from torch.utils.data import DataLoader, random_split\n",
    "from torchvision.transforms import ToTensor\n",
    "from sklearn.metrics import confusion_matrix, accuracy_score"
   ]
  },
  {
   "cell_type": "markdown",
   "id": "ba545486",
   "metadata": {},
   "source": [
    "## Загрузка данных"
   ]
  },
  {
   "cell_type": "code",
   "execution_count": 4,
   "id": "fc811c6d",
   "metadata": {},
   "outputs": [],
   "source": [
    "train_data = torchvision.datasets.MNIST(root='./data', train=True, transform=ToTensor(), download=True)\n",
    "test_data = torchvision.datasets.MNIST(root='./data', train=False, transform=ToTensor(), download=True)"
   ]
  },
  {
   "cell_type": "markdown",
   "id": "14c74ae2",
   "metadata": {},
   "source": [
    "## Разделение данных на обучающую тестовую и валидационную выборки"
   ]
  },
  {
   "cell_type": "code",
   "execution_count": 5,
   "id": "90e1317d",
   "metadata": {},
   "outputs": [],
   "source": [
    "train_data, val_data = random_split(train_data, [50000, 10000])\n",
    "train_loader = DataLoader(train_data, batch_size=64, shuffle=True)\n",
    "val_loader = DataLoader(val_data, batch_size=64, shuffle=False)\n",
    "test_loader = DataLoader(test_data, batch_size=64, shuffle=False)"
   ]
  },
  {
   "cell_type": "markdown",
   "id": "c8ecbe6c",
   "metadata": {},
   "source": [
    "## Описание модели"
   ]
  },
  {
   "cell_type": "code",
   "execution_count": 6,
   "id": "64bd9907",
   "metadata": {},
   "outputs": [],
   "source": [
    "class MLP(nn.Module):\n",
    "    def __init__(self):\n",
    "        super(MLP, self).__init__()\n",
    "        self.fc1 = nn.Linear(28*28, 128)\n",
    "        self.fc2 = nn.Linear(128, 10)\n",
    "\n",
    "    def forward(self, x):\n",
    "        x = x.view(-1, 28*28)\n",
    "        x = F.relu(self.fc1(x))\n",
    "        x = F.softmax(self.fc2(x), dim=1)\n",
    "        return x"
   ]
  },
  {
   "cell_type": "markdown",
   "id": "6e40daf5",
   "metadata": {},
   "source": [
    "## Инициализация модели и определение функций обучения и оценки"
   ]
  },
  {
   "cell_type": "code",
   "execution_count": 7,
   "id": "bca877d9",
   "metadata": {},
   "outputs": [],
   "source": [
    "model = MLP()\n",
    "optimizer = optim.SGD(model.parameters(), lr=0.01)\n",
    "\n",
    "def train_epoch(model, data_loader, optimizer, loss_fn):\n",
    "    model.train()\n",
    "    for X, Y in data_loader:\n",
    "        optimizer.zero_grad()\n",
    "        Y_pred = model(X)\n",
    "        loss = loss_fn(Y_pred, Y)\n",
    "        loss.backward()\n",
    "        optimizer.step()\n",
    "        \n",
    "def evaluate_model(model, data_loader, loss_fn):\n",
    "    model.eval()\n",
    "    total_loss = 0\n",
    "    with torch.no_grad():\n",
    "        for X, Y in data_loader:\n",
    "            Y_pred = model(X)\n",
    "            loss = loss_fn(Y_pred, Y)\n",
    "            total_loss += loss.item()\n",
    "    return total_loss / len(data_loader)        "
   ]
  },
  {
   "cell_type": "markdown",
   "id": "4f7ca548",
   "metadata": {},
   "source": [
    "## Обучение"
   ]
  },
  {
   "cell_type": "code",
   "execution_count": 8,
   "id": "db97f11e",
   "metadata": {},
   "outputs": [
    {
     "name": "stdout",
     "output_type": "stream",
     "text": [
      "Epoch 1, Validation Loss: 2.2809\n",
      "Epoch 2, Validation Loss: 2.1983\n",
      "Epoch 3, Validation Loss: 2.0234\n",
      "Epoch 4, Validation Loss: 1.8871\n",
      "Epoch 5, Validation Loss: 1.8235\n",
      "Epoch 6, Validation Loss: 1.7884\n",
      "Epoch 7, Validation Loss: 1.7675\n",
      "Epoch 8, Validation Loss: 1.7537\n",
      "Epoch 9, Validation Loss: 1.7277\n",
      "Epoch 10, Validation Loss: 1.6968\n",
      "Epoch 11, Validation Loss: 1.6827\n",
      "Epoch 12, Validation Loss: 1.6616\n",
      "Epoch 13, Validation Loss: 1.6409\n",
      "Epoch 14, Validation Loss: 1.6274\n",
      "Epoch 15, Validation Loss: 1.6177\n",
      "Epoch 16, Validation Loss: 1.6102\n",
      "Epoch 17, Validation Loss: 1.6044\n",
      "Epoch 18, Validation Loss: 1.5998\n",
      "Epoch 19, Validation Loss: 1.5959\n",
      "Epoch 20, Validation Loss: 1.5929\n"
     ]
    }
   ],
   "source": [
    "num_epochs = 20\n",
    "loss_fn = nn.CrossEntropyLoss()\n",
    "\n",
    "for epoch in range(num_epochs):\n",
    "    train_epoch(model, train_loader, optimizer, loss_fn)\n",
    "    val_loss = evaluate_model(model, val_loader, loss_fn)\n",
    "    print(f\"Epoch {epoch+1}, Validation Loss: {val_loss:.4f}\")"
   ]
  },
  {
   "cell_type": "markdown",
   "id": "28fda732",
   "metadata": {},
   "source": [
    "## Оценка полученной модели"
   ]
  },
  {
   "cell_type": "code",
   "execution_count": 9,
   "id": "897f7ac5",
   "metadata": {},
   "outputs": [
    {
     "name": "stdout",
     "output_type": "stream",
     "text": [
      "Точность: 0.9027\n",
      "Матрица ошибок:\n",
      "[[ 963    0    4    2    0    3    5    1    2    0]\n",
      " [   0 1107    2    6    0    0    5    2   13    0]\n",
      " [  15    3  902   14   16    1   19   21   34    7]\n",
      " [   3    0   23  913    1   23    3   16   20    8]\n",
      " [   2    3    5    1  904    0   17    2    7   41]\n",
      " [  27    6   10   57   26  663   27   16   52    8]\n",
      " [  21    3    4    0   10   14  902    0    4    0]\n",
      " [   6   17   34    2   11    1    0  926    8   23]\n",
      " [   9    8    9   17   12   20   16   14  856   13]\n",
      " [  12    7    3   10   40   14    1   20   11  891]]\n"
     ]
    }
   ],
   "source": [
    "def predict(model, loader):\n",
    "    model.eval()\n",
    "    all_preds = []\n",
    "    with torch.no_grad():\n",
    "        for X, _ in loader:\n",
    "            preds = model(X)\n",
    "            _, pred_labels = torch.max(preds, 1)\n",
    "            all_preds.extend(pred_labels.numpy())\n",
    "    return all_preds\n",
    "\n",
    "Y_pred = predict(model, test_data)\n",
    "accuracy = accuracy_score(test_data.targets.numpy(), Y_pred)\n",
    "cm = confusion_matrix(test_data.targets.numpy(), Y_pred)\n",
    "print(f\"Точность: {accuracy:.4f}\")\n",
    "print(\"Матрица ошибок:\")\n",
    "print(cm)"
   ]
  },
  {
   "cell_type": "markdown",
   "id": "144d2411",
   "metadata": {},
   "source": [
    "## Визуализация"
   ]
  },
  {
   "cell_type": "code",
   "execution_count": 10,
   "id": "41c9d05c",
   "metadata": {},
   "outputs": [],
   "source": [
    "import matplotlib.pyplot as plt\n",
    "import numpy as np\n",
    "\n",
    "def visualize_predictions(images, labels, preds, num_samples=10):\n",
    "    idxs = np.random.choice(len(images), size=num_samples, replace=False)\n",
    "    fig, axes = plt.subplots(1, num_samples, figsize=(15, 3))\n",
    "    for i, ax in zip(idxs, axes):\n",
    "        ax.imshow(images[i].numpy().squeeze(), cmap='gray')\n",
    "        ax.set_title(f\"{preds[i]} (true: {labels[i]})\")\n",
    "        ax.axis('off')\n",
    "    plt.show()"
   ]
  },
  {
   "cell_type": "code",
   "execution_count": 11,
   "id": "c5d2de8c",
   "metadata": {},
   "outputs": [
    {
     "data": {
      "image/png": "[encoded data removed]",
      "text/plain": [
       "<Figure size 1080x216 with 10 Axes>"
      ]
     },
     "metadata": {
      "needs_background": "light"
     },
     "output_type": "display_data"
    }
   ],
   "source": [
    "test_images, test_labels = next(iter(test_loader))\n",
    "model.eval()\n",
    "all_preds = []\n",
    "with torch.no_grad():\n",
    "        for X in test_images:\n",
    "            preds = model(X)\n",
    "            _, pred_labels = torch.max(preds, 1)\n",
    "            all_preds.extend(pred_labels.numpy())\n",
    "visualize_predictions(test_images, test_labels.numpy(), all_preds)"
   ]
  },
  {
   "cell_type": "code",
   "execution_count": null,
   "id": "632a0f67",
   "metadata": {},
   "outputs": [],
   "source": []
  }
 ],
 "metadata": {
  "kernelspec": {
   "display_name": "Python 3 (ipykernel)",
   "language": "python",
   "name": "python3"
  },
  "language_info": {
   "codemirror_mode": {
    "name": "ipython",
    "version": 3
   },
   "file_extension": ".py",
   "mimetype": "text/x-python",
   "name": "python",
   "nbconvert_exporter": "python",
   "pygments_lexer": "ipython3",
   "version": "3.7.7"
  }
 },
 "nbformat": 4,
 "nbformat_minor": 5
}
